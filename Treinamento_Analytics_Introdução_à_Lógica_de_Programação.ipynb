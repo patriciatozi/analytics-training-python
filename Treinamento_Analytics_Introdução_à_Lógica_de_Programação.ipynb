{
  "nbformat": 4,
  "nbformat_minor": 0,
  "metadata": {
    "colab": {
      "name": "Treinamento Analytics: Introdução à Lógica de Programação",
      "provenance": [],
      "collapsed_sections": [],
      "include_colab_link": true
    },
    "kernelspec": {
      "name": "python3",
      "display_name": "Python 3"
    },
    "accelerator": "GPU"
  },
  "cells": [
    {
      "cell_type": "markdown",
      "metadata": {
        "id": "view-in-github",
        "colab_type": "text"
      },
      "source": [
        "<a href=\"https://colab.research.google.com/github/patriciatozi/analytics-training-python/blob/main/Treinamento_Analytics_Introdu%C3%A7%C3%A3o_%C3%A0_L%C3%B3gica_de_Programa%C3%A7%C3%A3o.ipynb\" target=\"_parent\"><img src=\"https://colab.research.google.com/assets/colab-badge.svg\" alt=\"Open In Colab\"/></a>"
      ]
    },
    {
      "cell_type": "markdown",
      "metadata": {
        "id": "asCisGhxas-Y"
      },
      "source": [
        "# **Linguagem de Programação Python**\n",
        "\n",
        "\n",
        "- **Lógica de programação**\n",
        "\n",
        "- **O que é Python?**\n",
        "    - Como nasceu o Python\n",
        "    - Casos de utilização\n",
        "    - Curiosidades\n",
        "    - Utilização de bibliotecas prontas (pandas)\n",
        "    - Alguns exemplos\n",
        "   \n",
        "\n",
        "    \n",
        "    \n",
        "- **Como criar funções?**"
      ]
    },
    {
      "cell_type": "markdown",
      "metadata": {
        "id": "U23FGHq-kgU1"
      },
      "source": [
        "# Lógica de Programação\n",
        "\n",
        "A lógica de programação nada mais é do que um conjunto de **INSTRUÇÕES** a serem seguidas para o bom funcionamento do que chamamos de algoritmo, ou seja, uma sequência de regras finitas seguidas para se resolver algum problema.\n",
        "\n",
        "Para ficar mais claro, basta pensar nos passos necessários para se **tomar um banho**:\n",
        "\n",
        "-  Pegar a toalha e roupas;\n",
        "-  Entrar no banheiro e fechar a porta;\n",
        "- Tirar a roupa que está usando;\n",
        "- Ligar o chuveiro e esperar a água ficar na temperatura certa;\n",
        "- Entrar no box (ou espaço destinado para o banho);\n",
        "- Se molhar, ensaboar, enxaguar = banho;\n",
        "- Fechar o chuveiro;\n",
        "- Pegar a toalha e se secar;\n",
        "- Sair do box;\n",
        "- Se vestir com a roupa limpa;\n",
        "- Sair do banheiro."
      ]
    },
    {
      "cell_type": "markdown",
      "metadata": {
        "id": "kXD6rYtaSwJ1"
      },
      "source": [
        "## Outro exemplo: assar um pão\n",
        "\n",
        "![alt text](https://profpanda.com.br/wp-content/uploads/fluxograma1.png)\n",
        "\n",
        "\n"
      ]
    },
    {
      "cell_type": "markdown",
      "metadata": {
        "id": "UZqDhsiff2z7"
      },
      "source": [
        "#Como nasceu o Python? "
      ]
    },
    {
      "cell_type": "markdown",
      "metadata": {
        "id": "m1UBMZt80QA-"
      },
      "source": [
        "Em 1990, foi criada a linguagem Python nos laboratórios do CWI (*Centrum Wiskunde & Informatica*, Centro de Matemática e Ciência da Computação) pelo matemático e programador holandês Guido van Rossum, uma linguagem de scripts para o Sistema Operacional Distribuído Amoeba.\n",
        "\n",
        "![alt text](https://encrypted-tbn0.gstatic.com/images?q=tbn:ANd9GcTpq78FHJVxqRxSV7Yn55j-jHip4b8mIz0TvCWmJlHo6AKzvZJk)\n",
        "\n",
        "Foi originada a partir da linguagem ABC, focada para usuários físicos, engenheiros e linguistas. Sua simplicidade permite que seja utilizada por usuários leigos também."
      ]
    },
    {
      "cell_type": "markdown",
      "metadata": {
        "id": "_XX_JeIUgVJ2"
      },
      "source": [
        "## Guido van Rossum\n",
        "\n",
        "![alt text](https://upload.wikimedia.org/wikipedia/commons/thumb/6/66/Guido_van_Rossum_OSCON_2006.jpg/220px-Guido_van_Rossum_OSCON_2006.jpg)"
      ]
    },
    {
      "cell_type": "markdown",
      "metadata": {
        "id": "Umlxy1U-mtkf"
      },
      "source": [
        "## Sobre a origem do nome:\n",
        "\n",
        "O nome \"Python\" não é originário do réptil, como muitos imaginam. Na realidade, foi originado a partir do grupo humorístico britânico \"Monty Python\".\n",
        "\n",
        "<div>\n",
        "<img src=\"https://www.sbs.com.au/movies/sites/sbs.com.au.film/files/styles/full/public/montypython_headerpic.jpg?itok=hbividm9\" width=\"400\"/>\n",
        "</div>"
      ]
    },
    {
      "cell_type": "markdown",
      "metadata": {
        "id": "L3cDUCfKmO9H"
      },
      "source": [
        "# Curiosidades"
      ]
    },
    {
      "cell_type": "markdown",
      "metadata": {
        "id": "EwFr_LOrJ_RS"
      },
      "source": [
        " ## Primeira imagem de um buraco negro\n",
        "  \n",
        "  ![alt text](https://upload.wikimedia.org/wikipedia/commons/thumb/4/4f/Black_hole_-_Messier_87_crop_max_res.jpg/275px-Black_hole_-_Messier_87_crop_max_res.jpg)"
      ]
    },
    {
      "cell_type": "markdown",
      "metadata": {
        "id": "Pkd0atnUKeIt"
      },
      "source": [
        "## Estatísticas ligadas a Python\n",
        "  ![alt text](https://miro.medium.com/max/1400/1*pahmNYi9cYJp9tnkygW5Cg.png)\n",
        "  \n",
        "  Fonte: https://insights.stackoverflow.com/trends?tags=javascript%2Cjava%2Cc%23%2Cphp%2Cpython%2Cruby\n",
        "  "
      ]
    },
    {
      "cell_type": "markdown",
      "metadata": {
        "id": "LX8PqGK2q8AQ"
      },
      "source": [
        "# O que são variáveis?\n",
        "\n",
        "Variáveis são objetos que podem representar um **valor** ou **expressão**. São associadas a nomes geralmente."
      ]
    },
    {
      "cell_type": "markdown",
      "metadata": {
        "id": "AajHn742mu0c"
      },
      "source": [
        "## Tipos de variáveis (type):\n",
        "\n",
        "  - string: **texto**\n",
        "  - int/float: **número (inteiro/decimal)**\n",
        "  - boolean: **boleano (falso/verdadeiro)**"
      ]
    },
    {
      "cell_type": "code",
      "metadata": {
        "id": "L4Ocq2d6n9B4"
      },
      "source": [
        "string = \"Isto é uma String\" # A variável recebe como valor um texto\n",
        "\n",
        "inteiro = 10                 # A variável recebe como valor um número inteiro\n",
        "\n",
        "decimal = 3.5                # A variável recebe como valor um número decimal\n",
        "\n",
        "boolean = True               # A variável recebe valor lógico verdadeiro"
      ],
      "execution_count": 1,
      "outputs": []
    },
    {
      "cell_type": "markdown",
      "metadata": {
        "id": "73as4j0k15l3"
      },
      "source": [
        "**Observação:** a expressão de uma variável do tipo string pode ser declarada com aspas simples (`'<variável_string>'`) ou com aspas duplas (`\"<variavel_string>\"`)."
      ]
    },
    {
      "cell_type": "markdown",
      "metadata": {
        "id": "AsE-idtOTp4C"
      },
      "source": [
        "## Algumas operações matemáticas:"
      ]
    },
    {
      "cell_type": "code",
      "metadata": {
        "id": "4u5l34ypTvwG"
      },
      "source": [
        "a = 10                     # A variável a recebe o valor inteiro 10.\n",
        "b = 80                     # A variável b recebe o valor inteiro 80.\n",
        "\n",
        "# A variável c recebe como valor inteiro a soma de a por b.\n",
        "c = a+b\n",
        "\n",
        "# A variável d recebe como valor inteiro a subtração de a por b.\n",
        "d = a-b\n",
        "\n",
        "# A variável d recebe como valor inteiro a multiplicação de a por b.\n",
        "e = a*b\n",
        "\n",
        "# A variável d recebe como valor inteiro a divisão de a por b.\n",
        "f = a/b"
      ],
      "execution_count": 2,
      "outputs": []
    },
    {
      "cell_type": "markdown",
      "metadata": {
        "id": "Lqwki3PEeKVh"
      },
      "source": [
        "Para saber o **valor** de c, escrevemos a seguinte linha de código:"
      ]
    },
    {
      "cell_type": "code",
      "metadata": {
        "id": "1ky3rbpMeTdw",
        "colab": {
          "base_uri": "https://localhost:8080/"
        },
        "outputId": "8193a06c-a652-4a8a-e36f-7acf392300c5"
      },
      "source": [
        "c"
      ],
      "execution_count": 3,
      "outputs": [
        {
          "output_type": "execute_result",
          "data": {
            "text/plain": [
              "90"
            ]
          },
          "metadata": {
            "tags": []
          },
          "execution_count": 3
        }
      ]
    },
    {
      "cell_type": "markdown",
      "metadata": {
        "id": "QxdSjSQs6Cxy"
      },
      "source": [
        "Para descobrir o tipo de uma variável, escrevemos o seguinte comando:\n",
        "\n",
        "\n",
        "```\n",
        "type(<nome da variável>)\n",
        "```\n",
        "Portanto, para saber o tipo da variável c:\n"
      ]
    },
    {
      "cell_type": "code",
      "metadata": {
        "id": "-PfT0YpLpqG5",
        "colab": {
          "base_uri": "https://localhost:8080/"
        },
        "outputId": "8c8c98f5-6f79-48bb-c92d-9f07feb550d1"
      },
      "source": [
        "type(c)"
      ],
      "execution_count": 4,
      "outputs": [
        {
          "output_type": "execute_result",
          "data": {
            "text/plain": [
              "int"
            ]
          },
          "metadata": {
            "tags": []
          },
          "execution_count": 4
        }
      ]
    },
    {
      "cell_type": "markdown",
      "metadata": {
        "id": "L2IqCBVM1guZ"
      },
      "source": [
        "Para testar, tente fazer a operação de soma entre as duas variáveis do tipo **string** a seguir:\n",
        "\n",
        "`primeiro_nome = 'João'`\n",
        "\n",
        "`segundo_nome = 'Maria'`"
      ]
    },
    {
      "cell_type": "code",
      "metadata": {
        "id": "LCy4fv3911WQ"
      },
      "source": [
        "primeiro_nome = 'João '\n",
        "segundo_nome = 'Maria'"
      ],
      "execution_count": 5,
      "outputs": []
    },
    {
      "cell_type": "code",
      "metadata": {
        "id": "AWpBB71F3jDX"
      },
      "source": [
        "concatenacao = primeiro_nome+segundo_nome"
      ],
      "execution_count": 6,
      "outputs": []
    },
    {
      "cell_type": "code",
      "metadata": {
        "id": "X1fVbn-F9quS",
        "colab": {
          "base_uri": "https://localhost:8080/",
          "height": 34
        },
        "outputId": "25a1e56d-86a4-432c-fdce-5050985c33d2"
      },
      "source": [
        "concatenacao"
      ],
      "execution_count": 7,
      "outputs": [
        {
          "output_type": "execute_result",
          "data": {
            "application/vnd.google.colaboratory.intrinsic+json": {
              "type": "string"
            },
            "text/plain": [
              "'João Maria'"
            ]
          },
          "metadata": {
            "tags": []
          },
          "execution_count": 7
        }
      ]
    },
    {
      "cell_type": "markdown",
      "metadata": {
        "id": "DV8XLAyJlj2q"
      },
      "source": [
        "## Concatenações:\n",
        "\n",
        "Podemos concatenar 2 variáveis do tipo **string**, como por exemplo, para formar frases."
      ]
    },
    {
      "cell_type": "code",
      "metadata": {
        "id": "cbkGgMbt5n5q"
      },
      "source": [
        "a = \"Nahete \"\n",
        "b = \"e \"\n",
        "c = \"Robert\"\n",
        "\n",
        "d = a+b+c"
      ],
      "execution_count": 8,
      "outputs": []
    },
    {
      "cell_type": "code",
      "metadata": {
        "id": "cgjXaS9x589J",
        "colab": {
          "base_uri": "https://localhost:8080/",
          "height": 34
        },
        "outputId": "35dd8989-24ab-4c86-8dfe-df49f1af1f38"
      },
      "source": [
        "d"
      ],
      "execution_count": 9,
      "outputs": [
        {
          "output_type": "execute_result",
          "data": {
            "application/vnd.google.colaboratory.intrinsic+json": {
              "type": "string"
            },
            "text/plain": [
              "'Nahete e Robert'"
            ]
          },
          "metadata": {
            "tags": []
          },
          "execution_count": 9
        }
      ]
    },
    {
      "cell_type": "code",
      "metadata": {
        "id": "xfJ-WXnk7sMI",
        "colab": {
          "base_uri": "https://localhost:8080/"
        },
        "outputId": "05950229-3f0e-4825-b130-d35fb5c4b0e9"
      },
      "source": [
        "type(d)"
      ],
      "execution_count": 10,
      "outputs": [
        {
          "output_type": "execute_result",
          "data": {
            "text/plain": [
              "str"
            ]
          },
          "metadata": {
            "tags": []
          },
          "execution_count": 10
        }
      ]
    },
    {
      "cell_type": "markdown",
      "metadata": {
        "id": "h-jJf1cZpFj7"
      },
      "source": [
        "## Alguns comandos:\n",
        "  \n",
        " - **list**: cria uma \"lista\" de valores contidos em variáveis.\n",
        " - **print**: comando para mostrar o valor de alguma variável ou lista."
      ]
    },
    {
      "cell_type": "code",
      "metadata": {
        "id": "3L7k1XAHVeeX",
        "colab": {
          "base_uri": "https://localhost:8080/"
        },
        "outputId": "06f7f17b-1bd9-4887-fe25-4ccf815ca4cd"
      },
      "source": [
        "# Lista é criada com 3 elementos representando as bicicletas:\n",
        "lista = [\"Bicicleta1\",\"Bicicleta2\",\"Bicicleta3\"]\n",
        "\n",
        "# São mostradas bicicletas que compõem a lista:\n",
        "print(lista)"
      ],
      "execution_count": 11,
      "outputs": [
        {
          "output_type": "stream",
          "text": [
            "['Bicicleta1', 'Bicicleta2', 'Bicicleta3']\n"
          ],
          "name": "stdout"
        }
      ]
    },
    {
      "cell_type": "code",
      "metadata": {
        "id": "2pjXFjH5_DZ7",
        "colab": {
          "base_uri": "https://localhost:8080/"
        },
        "outputId": "23bb4ca3-61c9-4f73-fbec-c9f0985cc7a5"
      },
      "source": [
        "lista"
      ],
      "execution_count": 12,
      "outputs": [
        {
          "output_type": "execute_result",
          "data": {
            "text/plain": [
              "['Bicicleta1', 'Bicicleta2', 'Bicicleta3']"
            ]
          },
          "metadata": {
            "tags": []
          },
          "execution_count": 12
        }
      ]
    },
    {
      "cell_type": "markdown",
      "metadata": {
        "id": "8XfDTQ5EEAsu"
      },
      "source": [
        "### E se quisermos saber a posição de um elemento na lista?\n",
        "\n",
        "No caso, a posição inicial de uma lista em Python é 0. E, para identificar o elemento na posição 3 de uma lista, escrevemos da seguinte forma:\n",
        "\n",
        "\n",
        "\n",
        "```\n",
        "lista[2]\n",
        "```\n",
        "\n",
        "Portanto, para imprimir na saída qual o elemento na primeira posição da lista, escrevemos:"
      ]
    },
    {
      "cell_type": "code",
      "metadata": {
        "id": "TcHwiQTjEHaQ",
        "colab": {
          "base_uri": "https://localhost:8080/"
        },
        "outputId": "1f6bbcf3-584e-45be-f54a-e53c9141bfe6"
      },
      "source": [
        "print(lista[0])"
      ],
      "execution_count": 13,
      "outputs": [
        {
          "output_type": "stream",
          "text": [
            "Bicicleta1\n"
          ],
          "name": "stdout"
        }
      ]
    },
    {
      "cell_type": "code",
      "metadata": {
        "id": "W0pHg5--We7c",
        "colab": {
          "base_uri": "https://localhost:8080/"
        },
        "outputId": "ccc9584b-7003-4978-d163-7b216fcb8823"
      },
      "source": [
        "# É mostrado na ordem: valor da 'string', números inteiro e decimal, a lista de\n",
        "# letras da variável 'string', e o valor lógico da variável 'boolean'.\n",
        "print(string,inteiro,decimal,lista,boolean)"
      ],
      "execution_count": 14,
      "outputs": [
        {
          "output_type": "stream",
          "text": [
            "Isto é uma String 10 3.5 ['Bicicleta1', 'Bicicleta2', 'Bicicleta3'] True\n"
          ],
          "name": "stdout"
        }
      ]
    },
    {
      "cell_type": "markdown",
      "metadata": {
        "id": "RSS3HPHknGh3"
      },
      "source": [
        "# Estruturas Condicionais:\n",
        "  \n",
        "**SE** condição 1 verdadeira:\n",
        "\n",
        "      Instruções condição 1\n",
        "      \n",
        "**SENÃO SE** condição 2 verdadeira:\n",
        "\n",
        "      Instruções condição 2\n",
        "...\n",
        "\n",
        "\n",
        "\n",
        "**SENÃO**:\n",
        "\n",
        "      Instruções condição n\n",
        "    "
      ]
    },
    {
      "cell_type": "markdown",
      "metadata": {
        "id": "edxoyjD9-LRl"
      },
      "source": [
        "## Como aplicar isso no python?\n",
        "\n",
        "Em python, existe uma questão da **indentação**: após uma linha de estrutura condicional (if/elif/else) ou laço de repetição (que será visto no tópico a seguir) é nessário que a linha abaixo tenha um recuo de **4 espaços simples**. Esse efeito pode ser realizado através de **1 tabulação** também, basta apertar a tecla **Tab**."
      ]
    },
    {
      "cell_type": "code",
      "metadata": {
        "id": "ORxsp81QoeOv",
        "colab": {
          "base_uri": "https://localhost:8080/"
        },
        "outputId": "c7e40b93-8c20-4ede-8e01-21fb158ef100"
      },
      "source": [
        "\"\"\"\n",
        "\n",
        "Exemplo 1: Verificar se a variável inteiro é igual a 10 ou não.\n",
        "\n",
        "\"\"\"\n",
        "\n",
        "# Lembrar que inteiro = 10.\n",
        "\n",
        "# Quando estamos analisando uma condição, trata-se de uma comparação lógica e,\n",
        "# por conta disso, cabe utilizar dois sinais de igualdade nesse caso.\n",
        "if inteiro == 10:\n",
        "  \n",
        "  print('Sim')          # Imprime na saída 'Sim' caso inteiro seja igual a 10.\n",
        "  \n",
        "else:\n",
        "  \n",
        "  print('Não')          # Se inteiro não for igual a 10, imprime na tela 'Não'."
      ],
      "execution_count": 15,
      "outputs": [
        {
          "output_type": "stream",
          "text": [
            "Sim\n"
          ],
          "name": "stdout"
        }
      ]
    },
    {
      "cell_type": "code",
      "metadata": {
        "id": "P131RZyxomRG",
        "colab": {
          "base_uri": "https://localhost:8080/"
        },
        "outputId": "bcf71450-3c76-4fb4-f3f9-ae3db10f6d30"
      },
      "source": [
        "\"\"\"\n",
        "\n",
        "Exemplo 2: Verificar se a variável decimal é menor que 3 ou 3,6.\n",
        "\n",
        "\"\"\"\n",
        "\n",
        "# Se a variável decimal for menor que 3, a condição é satisfeita.\n",
        "if (decimal < 3.0):\n",
        "\n",
        "  print('Sim')\n",
        "  \n",
        "# Senão se a variável decimal for menor que 3.6, a condição é satisfeita.\n",
        "elif (decimal < 3.6):\n",
        "  \n",
        "  print('Sim ele é menor que 3.6')\n",
        "\n",
        "# Senão (quando todas as outras condições não foram satisfeitas).\n",
        "else:\n",
        "  \n",
        "  print('Nao é menor que nada')"
      ],
      "execution_count": 16,
      "outputs": [
        {
          "output_type": "stream",
          "text": [
            "Sim ele é menor que 3.6\n"
          ],
          "name": "stdout"
        }
      ]
    },
    {
      "cell_type": "markdown",
      "metadata": {
        "id": "AFfEKXChmjyr"
      },
      "source": [
        "### Exercício:\n",
        "Faça uma estrutura condicional que verifique se o primeiro número é maior ou menor que o segundo número:\n",
        "\n",
        "`primeiro_numero = 10`\n",
        "\n",
        "`segundo_numero = 20`\n"
      ]
    },
    {
      "cell_type": "code",
      "metadata": {
        "id": "zE0rQW9Tmi8p"
      },
      "source": [
        ""
      ],
      "execution_count": null,
      "outputs": []
    },
    {
      "cell_type": "markdown",
      "metadata": {
        "id": "Fon8w38iBSTV"
      },
      "source": [
        "## Algumas observações conceituais! "
      ]
    },
    {
      "cell_type": "code",
      "metadata": {
        "id": "Eyo5SAcZ5LsG",
        "colab": {
          "base_uri": "https://localhost:8080/"
        },
        "outputId": "b3c3817e-53b6-4190-a288-1d119fb8d93e"
      },
      "source": [
        "# Se a palavra 'String' estiver dentro da variável string, a condição \n",
        "# é satisfeita.\n",
        "if 'String' in string:\n",
        "\n",
        "  print('Sim')"
      ],
      "execution_count": 17,
      "outputs": [
        {
          "output_type": "stream",
          "text": [
            "Sim\n"
          ],
          "name": "stdout"
        }
      ]
    },
    {
      "cell_type": "markdown",
      "metadata": {
        "id": "4kAowC_enQCJ"
      },
      "source": [
        "# Laços de Repetição:\n",
        "\n",
        "\n",
        "Algumas vezes, torna-se necessário repetir a mesma instruções várias vezes até que determinada situação seja\n",
        "satisfeita. Para tanto, existem os laços de repetição, que podem ser do tipo:"
      ]
    },
    {
      "cell_type": "markdown",
      "metadata": {
        "id": "TICSarRDE-uG"
      },
      "source": [
        " ## For (para):\n",
        " \n",
        " Nesse tipo de laço, uma variável chamada de **índice** recebe a cada execução das instruções contidas dentro do laço\n",
        " um elemento da lista que será percorrida."
      ]
    },
    {
      "cell_type": "code",
      "metadata": {
        "id": "yUSjUQVJE9zx",
        "colab": {
          "base_uri": "https://localhost:8080/"
        },
        "outputId": "912faaee-7ff7-4e8f-891c-c265a1efbf19"
      },
      "source": [
        "string = \"Isto é uma String\"           # A variável recebe como valor um texto\n",
        "\n",
        "# Lista é criada com cada letra que compõe a variável 'string':\n",
        "lista_string = list(string)\n",
        "\n",
        "# O índice i a cada execução imprime na saída o elemento que recebe da lista.\n",
        "for letra in lista_string:\n",
        "  \n",
        "  print(letra)"
      ],
      "execution_count": 18,
      "outputs": [
        {
          "output_type": "stream",
          "text": [
            "I\n",
            "s\n",
            "t\n",
            "o\n",
            " \n",
            "é\n",
            " \n",
            "u\n",
            "m\n",
            "a\n",
            " \n",
            "S\n",
            "t\n",
            "r\n",
            "i\n",
            "n\n",
            "g\n"
          ],
          "name": "stdout"
        }
      ]
    },
    {
      "cell_type": "markdown",
      "metadata": {
        "id": "FpI0Uv3rG7kV"
      },
      "source": [
        "## While (enquanto):\n",
        "\n",
        "Nesse tipo de laço de repetição, são executadas as instruções até que uma variável atinja determinado valor. \n",
        "\n",
        "\n",
        "**Observação:** como existe a possibilidade da condição nunca ser satisfeita,  teríamos como resultado o que é\n",
        "chamado de \"loop infinito\"!!"
      ]
    },
    {
      "cell_type": "code",
      "metadata": {
        "id": "9ZWYO4kqrR-5",
        "colab": {
          "base_uri": "https://localhost:8080/"
        },
        "outputId": "8532aa32-1df5-4597-d4d9-5fae574daa76"
      },
      "source": [
        "# Variável 'cont' recebe um valor de 0 inicial.\n",
        "cont = 0\n",
        "\n",
        "# Enquanto a variável for menor que 3, o laço é executado.\n",
        "while (cont < 3):\n",
        "  \n",
        "  print('cont ainda é menor que 3.')\n",
        "  \n",
        "  # A cada execução, a variável é somada de um valor unitário.\n",
        "  cont = cont + 1"
      ],
      "execution_count": 19,
      "outputs": [
        {
          "output_type": "stream",
          "text": [
            "cont ainda é menor que 3.\n",
            "cont ainda é menor que 3.\n",
            "cont ainda é menor que 3.\n"
          ],
          "name": "stdout"
        }
      ]
    },
    {
      "cell_type": "code",
      "metadata": {
        "id": "f1mPhmZtKDJ8",
        "colab": {
          "base_uri": "https://localhost:8080/"
        },
        "outputId": "3d89e078-09a9-4ec7-f4ba-0f6e65a7ad74"
      },
      "source": [
        "lista"
      ],
      "execution_count": 20,
      "outputs": [
        {
          "output_type": "execute_result",
          "data": {
            "text/plain": [
              "['Bicicleta1', 'Bicicleta2', 'Bicicleta3']"
            ]
          },
          "metadata": {
            "tags": []
          },
          "execution_count": 20
        }
      ]
    },
    {
      "cell_type": "markdown",
      "metadata": {
        "id": "BK5Jv_VnPfSA"
      },
      "source": [
        "## Break:\n",
        "\n",
        "Trata-se de um comando utilizado quando é necessário finalizar o laço antes de se atingir determinada condição."
      ]
    },
    {
      "cell_type": "code",
      "metadata": {
        "id": "StyALoECrd58",
        "colab": {
          "base_uri": "https://localhost:8080/"
        },
        "outputId": "2cb21121-345f-4b78-92d6-c06b5c0843db"
      },
      "source": [
        "# O índice x a cada execução imprime na saída o elemento que recebe da lista.\n",
        "for x in lista:\n",
        "  \n",
        "  print(x)\n",
        "  \n",
        "  # Se o índice x assumir o valor 'o', o laço é finalizado antes da lista ser\n",
        "  # percorrida totalmente.\n",
        "  if x == 'Bicicleta2':\n",
        "    \n",
        "    break"
      ],
      "execution_count": 21,
      "outputs": [
        {
          "output_type": "stream",
          "text": [
            "Bicicleta1\n",
            "Bicicleta2\n"
          ],
          "name": "stdout"
        }
      ]
    },
    {
      "cell_type": "markdown",
      "metadata": {
        "id": "6q23Mgxnmsjo"
      },
      "source": [
        "### Exercício:\n",
        "\n",
        "Faça um programa que leia os elementos de uma lista e verifique se o seu nome está presente nela.\n"
      ]
    },
    {
      "cell_type": "code",
      "metadata": {
        "id": "myPb3N0fmxmB"
      },
      "source": [
        ""
      ],
      "execution_count": null,
      "outputs": []
    },
    {
      "cell_type": "markdown",
      "metadata": {
        "id": "FjX1SpD5nXhc"
      },
      "source": [
        "# Funções \n",
        "\n",
        "## Definição:\n",
        "\n",
        "Uma função é um **bloco de execução** de instruções que é identificada a partir de um nome específico, recebe **parâmetros** de entrada e fornece um **retorno** de saída.\n",
        "\n",
        "\n",
        "\n",
        "```\n",
        "def nome_da_funcao(<variaveis_de_argumento>):\n",
        "\n",
        "      Bloco de instruções\n",
        "      \n",
        "      return <variavel_de_retorno>\n",
        "```\n",
        "\n",
        "\n",
        "\n",
        "Primeiramente, precisamos **declarar a função**, para depois ser **chamada** em algum ponto dentro do programa que estamos desenvolvendo.\n"
      ]
    },
    {
      "cell_type": "code",
      "metadata": {
        "id": "-Ex3NwWtsEip"
      },
      "source": [
        "\"\"\"\n",
        "\n",
        "Declaração da função.\n",
        "\n",
        "\"\"\"\n",
        "\n",
        "# Define-se a função 'soma_a_e_b' que recebe como parâmetros os valores das \n",
        "# variáveis a e b.\n",
        "def soma_a_e_b(a,b):\n",
        "  \n",
        "  # A fução retorna a soma de a e b.\n",
        "  soma = a+b\n",
        "  \n",
        "  return soma "
      ],
      "execution_count": 22,
      "outputs": []
    },
    {
      "cell_type": "markdown",
      "metadata": {
        "id": "EtIvGnZfyeOn"
      },
      "source": [
        "**Observação:** é importante notar que todas as linhas abaixo da definição da função (onde tem a palavra `def`) estão indentadas."
      ]
    },
    {
      "cell_type": "code",
      "metadata": {
        "id": "goz2qlIoWliT",
        "colab": {
          "base_uri": "https://localhost:8080/"
        },
        "outputId": "7553ea92-4c38-44bc-954c-6c45e9dae719"
      },
      "source": [
        "\"\"\"\n",
        "\n",
        "Aqui estamos chamando a função para ser utilizada.\n",
        "\n",
        "\"\"\"\n",
        "\n",
        "# Alguns pontos devem ser levados em consideração:\n",
        "# - A variável soma recebe o retorno da função 'soma_a_e_b'\n",
        "# - A função 'soma_a_e_b' recebe como parâmetros 1 no lugar de a e 2 \n",
        "#   no lugar de b\n",
        "soma = soma_a_e_b(1,2)\n",
        "\n",
        "# Será mostrado na saída o valor da variável soma, sendo soma = 3.\n",
        "print(soma)"
      ],
      "execution_count": 23,
      "outputs": [
        {
          "output_type": "stream",
          "text": [
            "3\n"
          ],
          "name": "stdout"
        }
      ]
    },
    {
      "cell_type": "markdown",
      "metadata": {
        "id": "-nssF0dVn-H5"
      },
      "source": [
        "### Exercício:\n",
        "\n",
        "Crie uma função que receba como argumento a lista de itens de bicicleta e retorne a posição da  \"Bicicleta3\" na lista.\n",
        "\n",
        "**Lembrar que:**\n",
        "\n",
        "\n",
        "```\n",
        "lista = [\"Bicicleta1\",\"Bicicleta2\",\"Bicicleta3\"]\n",
        "```\n"
      ]
    },
    {
      "cell_type": "code",
      "metadata": {
        "id": "V3wsCGJsr8V5"
      },
      "source": [
        ""
      ],
      "execution_count": null,
      "outputs": []
    },
    {
      "cell_type": "markdown",
      "metadata": {
        "id": "1iwcrnv6nk_F"
      },
      "source": [
        "# GRANDE DESAFIO!!\n",
        "\n",
        "Faça uma função que receba como argumento o valor restante do saldo no seu vale refeição e a quantidade de dias úteis restantes no mês, e retorne o gasto diário disponível."
      ]
    },
    {
      "cell_type": "code",
      "metadata": {
        "id": "GwRhSm1iJUuS"
      },
      "source": [
        "def gasto_diario():\n",
        "  \n",
        "  return diario"
      ],
      "execution_count": null,
      "outputs": []
    },
    {
      "cell_type": "markdown",
      "metadata": {
        "id": "Js9c1L0NXRgI"
      },
      "source": [
        "# Bibliotecas:\n",
        "\n",
        "Trata-se de um conjunto de funções armazenadas que executem automaticamente determinada função.\n",
        "\n",
        "\n",
        "Algumas bibliotecas padrões são mais comuns de serem utilizadas. Dentre elas, temos a **numpy** e a **pandas**."
      ]
    },
    {
      "cell_type": "markdown",
      "metadata": {
        "id": "DoHEArttQEpq"
      },
      "source": [
        "## Numpy\n",
        "\n",
        "Trata-se de uma biblioteca que suporta arrays e matrizes multidimensionais, possuindo uma larga coleção de funções matemáticas para trabalhar com estas estruturas."
      ]
    },
    {
      "cell_type": "code",
      "metadata": {
        "id": "s9MBR8MPsQqW"
      },
      "source": [
        "# Essa linha de código diz que estamos importando a biblioteca numpy para o\n",
        "# ambiente do colab e toda vez que a utilizarmos, chamaremos por 'np'.\n",
        "import numpy as np\n",
        "\n",
        "# Essa função da biblioteca numpy cria uma lista de números inteiros que vai \n",
        "# de 0 a 9.\n",
        "lista_numpy = np.arange(10)"
      ],
      "execution_count": 24,
      "outputs": []
    },
    {
      "cell_type": "code",
      "metadata": {
        "id": "d2zsso-_RvKU",
        "colab": {
          "base_uri": "https://localhost:8080/"
        },
        "outputId": "d076b160-a4ae-4611-d8ee-c04e46acce07"
      },
      "source": [
        "# Imprimindo na saída a lista de números inteiros:\n",
        "print(lista_numpy)"
      ],
      "execution_count": 25,
      "outputs": [
        {
          "output_type": "stream",
          "text": [
            "[0 1 2 3 4 5 6 7 8 9]\n"
          ],
          "name": "stdout"
        }
      ]
    },
    {
      "cell_type": "markdown",
      "metadata": {
        "id": "V7lKZowMOxcR"
      },
      "source": [
        "## Pandas:\n",
        "\n",
        "Trata-se de uma biblioteca utilizada amplamente para **manipulação e análise de dados**, oferencendo estruturas de dados e operações para manipular tabelas numéricas e séries temporais.\n",
        "\n",
        "Para importar a biblioteca para o ambiente do Collab, como por exemplo, podemos escrever da seguinte forma:"
      ]
    },
    {
      "cell_type": "code",
      "metadata": {
        "id": "kof41QIBP1lG"
      },
      "source": [
        "# Essa linha de código diz que importamos a biblioteca pandas para o ambiente\n",
        "# do colab e toda vez que formos utilizá-la, a chamaremos de 'pd'.\n",
        "import pandas as pd"
      ],
      "execution_count": null,
      "outputs": []
    },
    {
      "cell_type": "markdown",
      "metadata": {
        "id": "6QRvG36Sngfk"
      },
      "source": [
        "# Leitura de arquivos:\n",
        "\n",
        "É possível importar bases de dados em diversos formatos (.csv, .xlsx, .db, etc.) dentro do colab e utilizar os dados\n",
        "em uma estrutura que chamamos de **dataframe**, algo parecido com uma matriz mas cujas colunas têm nomes e podem conter dados de tipo diferente.\n",
        "\n"
      ]
    },
    {
      "cell_type": "markdown",
      "metadata": {
        "id": "w-9nNYwrg2po"
      },
      "source": [
        "Antes de tudo, precisamos importar a planilha de Excel que será utilizada dentro desse notebook. Para tanto, vamos na aba 'Files' localizada no canto esquerdo da página, e clicamos em **UPLOAD**. Depois, é só importar o arquivo chamado ''`trips.xlsx`''. **Pronto!** Já é possível utilizar a planilha de dados."
      ]
    },
    {
      "cell_type": "markdown",
      "metadata": {
        "id": "x2dRulXxmVCE"
      },
      "source": [
        "Para ler os arquivos das bases de dados, existem algumas funções dentro da própria biblioteca pandas. No exemplo abaixo, importaremos a planilha do excel utilizando a função `read_excel`."
      ]
    },
    {
      "cell_type": "code",
      "metadata": {
        "id": "y2anTWQZs2G2"
      },
      "source": [
        "import pandas as pd\n",
        "\n",
        "# Atribuindo um nome para a planilha do excel utilizada.\n",
        "nome_do_arquivo = 'trips.xlsx'\n",
        "\n",
        "# Utilizando a função read_excel do pandas para armazenar as informações da\n",
        "# planilha em um dataframe, chamado de 'df'.\n",
        "df = pd.read_excel(nome_do_arquivo)"
      ],
      "execution_count": 26,
      "outputs": []
    },
    {
      "cell_type": "markdown",
      "metadata": {
        "id": "yEkuPScc7npf"
      },
      "source": [
        "**Observação:** caso seja um formato em outro arquivo, existem outras funções armazenadas da biblioteca pandas que fazendo a leitura do mesmo. Exemplo: trata-se de um arquivo em formato csv, podemos utilizar a função `read_csv`."
      ]
    },
    {
      "cell_type": "code",
      "metadata": {
        "id": "ANlsjOI0IfXG",
        "colab": {
          "base_uri": "https://localhost:8080/",
          "height": 1000
        },
        "outputId": "0ad183c7-a29e-4724-ad66-c580f059f19a"
      },
      "source": [
        "df.head(50)"
      ],
      "execution_count": 28,
      "outputs": [
        {
          "output_type": "execute_result",
          "data": {
            "text/html": [
              "<div>\n",
              "<style scoped>\n",
              "    .dataframe tbody tr th:only-of-type {\n",
              "        vertical-align: middle;\n",
              "    }\n",
              "\n",
              "    .dataframe tbody tr th {\n",
              "        vertical-align: top;\n",
              "    }\n",
              "\n",
              "    .dataframe thead th {\n",
              "        text-align: right;\n",
              "    }\n",
              "</style>\n",
              "<table border=\"1\" class=\"dataframe\">\n",
              "  <thead>\n",
              "    <tr style=\"text-align: right;\">\n",
              "      <th></th>\n",
              "      <th>id</th>\n",
              "      <th>duration</th>\n",
              "      <th>start_date</th>\n",
              "      <th>start_station</th>\n",
              "      <th>end_date</th>\n",
              "      <th>end_station</th>\n",
              "      <th>bike_number</th>\n",
              "      <th>sub_type</th>\n",
              "      <th>zip_code</th>\n",
              "      <th>birth_date</th>\n",
              "      <th>gender</th>\n",
              "    </tr>\n",
              "  </thead>\n",
              "  <tbody>\n",
              "    <tr>\n",
              "      <th>0</th>\n",
              "      <td>1</td>\n",
              "      <td>9</td>\n",
              "      <td>NaN</td>\n",
              "      <td>23</td>\n",
              "      <td>NaN</td>\n",
              "      <td>23</td>\n",
              "      <td>B00468</td>\n",
              "      <td>Registered</td>\n",
              "      <td>'97217</td>\n",
              "      <td>1976.0</td>\n",
              "      <td>Male</td>\n",
              "    </tr>\n",
              "    <tr>\n",
              "      <th>1</th>\n",
              "      <td>2</td>\n",
              "      <td>220</td>\n",
              "      <td>NaN</td>\n",
              "      <td>23</td>\n",
              "      <td>NaN</td>\n",
              "      <td>23</td>\n",
              "      <td>B00554</td>\n",
              "      <td>Registered</td>\n",
              "      <td>'02215</td>\n",
              "      <td>1966.0</td>\n",
              "      <td>Male</td>\n",
              "    </tr>\n",
              "    <tr>\n",
              "      <th>2</th>\n",
              "      <td>3</td>\n",
              "      <td>56</td>\n",
              "      <td>NaN</td>\n",
              "      <td>23</td>\n",
              "      <td>NaN</td>\n",
              "      <td>23</td>\n",
              "      <td>B00456</td>\n",
              "      <td>Registered</td>\n",
              "      <td>'02108</td>\n",
              "      <td>1943.0</td>\n",
              "      <td>Male</td>\n",
              "    </tr>\n",
              "    <tr>\n",
              "      <th>3</th>\n",
              "      <td>4</td>\n",
              "      <td>64</td>\n",
              "      <td>NaN</td>\n",
              "      <td>23</td>\n",
              "      <td>NaN</td>\n",
              "      <td>23</td>\n",
              "      <td>B00554</td>\n",
              "      <td>Registered</td>\n",
              "      <td>'02116</td>\n",
              "      <td>1981.0</td>\n",
              "      <td>Female</td>\n",
              "    </tr>\n",
              "    <tr>\n",
              "      <th>4</th>\n",
              "      <td>5</td>\n",
              "      <td>12</td>\n",
              "      <td>NaN</td>\n",
              "      <td>23</td>\n",
              "      <td>NaN</td>\n",
              "      <td>23</td>\n",
              "      <td>B00554</td>\n",
              "      <td>Registered</td>\n",
              "      <td>'97214</td>\n",
              "      <td>1983.0</td>\n",
              "      <td>Female</td>\n",
              "    </tr>\n",
              "    <tr>\n",
              "      <th>5</th>\n",
              "      <td>6</td>\n",
              "      <td>19</td>\n",
              "      <td>NaN</td>\n",
              "      <td>23</td>\n",
              "      <td>NaN</td>\n",
              "      <td>23</td>\n",
              "      <td>B00456</td>\n",
              "      <td>Registered</td>\n",
              "      <td>'02021</td>\n",
              "      <td>1951.0</td>\n",
              "      <td>Male</td>\n",
              "    </tr>\n",
              "    <tr>\n",
              "      <th>6</th>\n",
              "      <td>7</td>\n",
              "      <td>24</td>\n",
              "      <td>NaN</td>\n",
              "      <td>23</td>\n",
              "      <td>NaN</td>\n",
              "      <td>23</td>\n",
              "      <td>B00554</td>\n",
              "      <td>Registered</td>\n",
              "      <td>'02140</td>\n",
              "      <td>1971.0</td>\n",
              "      <td>Female</td>\n",
              "    </tr>\n",
              "    <tr>\n",
              "      <th>7</th>\n",
              "      <td>8</td>\n",
              "      <td>7</td>\n",
              "      <td>NaN</td>\n",
              "      <td>23</td>\n",
              "      <td>NaN</td>\n",
              "      <td>23</td>\n",
              "      <td>B00554</td>\n",
              "      <td>Registered</td>\n",
              "      <td>'02140</td>\n",
              "      <td>1971.0</td>\n",
              "      <td>Female</td>\n",
              "    </tr>\n",
              "    <tr>\n",
              "      <th>8</th>\n",
              "      <td>9</td>\n",
              "      <td>8</td>\n",
              "      <td>NaN</td>\n",
              "      <td>23</td>\n",
              "      <td>NaN</td>\n",
              "      <td>23</td>\n",
              "      <td>B00554</td>\n",
              "      <td>Registered</td>\n",
              "      <td>'97214</td>\n",
              "      <td>1983.0</td>\n",
              "      <td>Female</td>\n",
              "    </tr>\n",
              "    <tr>\n",
              "      <th>9</th>\n",
              "      <td>10</td>\n",
              "      <td>1108</td>\n",
              "      <td>NaN</td>\n",
              "      <td>47</td>\n",
              "      <td>NaN</td>\n",
              "      <td>40</td>\n",
              "      <td>B00550</td>\n",
              "      <td>Registered</td>\n",
              "      <td>'01867</td>\n",
              "      <td>1994.0</td>\n",
              "      <td>Male</td>\n",
              "    </tr>\n",
              "    <tr>\n",
              "      <th>10</th>\n",
              "      <td>11</td>\n",
              "      <td>1055</td>\n",
              "      <td>NaN</td>\n",
              "      <td>47</td>\n",
              "      <td>NaN</td>\n",
              "      <td>40</td>\n",
              "      <td>B00580</td>\n",
              "      <td>Registered</td>\n",
              "      <td>'01867</td>\n",
              "      <td>1956.0</td>\n",
              "      <td>Male</td>\n",
              "    </tr>\n",
              "    <tr>\n",
              "      <th>11</th>\n",
              "      <td>12</td>\n",
              "      <td>1042</td>\n",
              "      <td>NaN</td>\n",
              "      <td>47</td>\n",
              "      <td>NaN</td>\n",
              "      <td>40</td>\n",
              "      <td>B00539</td>\n",
              "      <td>Registered</td>\n",
              "      <td>'01867</td>\n",
              "      <td>1959.0</td>\n",
              "      <td>Female</td>\n",
              "    </tr>\n",
              "    <tr>\n",
              "      <th>12</th>\n",
              "      <td>13</td>\n",
              "      <td>994</td>\n",
              "      <td>NaN</td>\n",
              "      <td>40</td>\n",
              "      <td>NaN</td>\n",
              "      <td>47</td>\n",
              "      <td>B00368</td>\n",
              "      <td>Casual</td>\n",
              "      <td>NaN</td>\n",
              "      <td>NaN</td>\n",
              "      <td>NaN</td>\n",
              "    </tr>\n",
              "    <tr>\n",
              "      <th>13</th>\n",
              "      <td>14</td>\n",
              "      <td>15</td>\n",
              "      <td>NaN</td>\n",
              "      <td>22</td>\n",
              "      <td>NaN</td>\n",
              "      <td>22</td>\n",
              "      <td>B00442</td>\n",
              "      <td>Registered</td>\n",
              "      <td>'02446</td>\n",
              "      <td>1982.0</td>\n",
              "      <td>Male</td>\n",
              "    </tr>\n",
              "    <tr>\n",
              "      <th>14</th>\n",
              "      <td>15</td>\n",
              "      <td>952</td>\n",
              "      <td>NaN</td>\n",
              "      <td>40</td>\n",
              "      <td>NaN</td>\n",
              "      <td>23</td>\n",
              "      <td>B00556</td>\n",
              "      <td>Registered</td>\n",
              "      <td>'02128</td>\n",
              "      <td>1944.0</td>\n",
              "      <td>Male</td>\n",
              "    </tr>\n",
              "    <tr>\n",
              "      <th>15</th>\n",
              "      <td>16</td>\n",
              "      <td>32</td>\n",
              "      <td>NaN</td>\n",
              "      <td>22</td>\n",
              "      <td>NaN</td>\n",
              "      <td>22</td>\n",
              "      <td>B00316</td>\n",
              "      <td>Registered</td>\n",
              "      <td>'02115</td>\n",
              "      <td>1960.0</td>\n",
              "      <td>Female</td>\n",
              "    </tr>\n",
              "    <tr>\n",
              "      <th>16</th>\n",
              "      <td>17</td>\n",
              "      <td>1261</td>\n",
              "      <td>NaN</td>\n",
              "      <td>22</td>\n",
              "      <td>NaN</td>\n",
              "      <td>45</td>\n",
              "      <td>B00454</td>\n",
              "      <td>Registered</td>\n",
              "      <td>'02492</td>\n",
              "      <td>1975.0</td>\n",
              "      <td>Male</td>\n",
              "    </tr>\n",
              "    <tr>\n",
              "      <th>17</th>\n",
              "      <td>18</td>\n",
              "      <td>7</td>\n",
              "      <td>NaN</td>\n",
              "      <td>22</td>\n",
              "      <td>NaN</td>\n",
              "      <td>22</td>\n",
              "      <td>B00404</td>\n",
              "      <td>Registered</td>\n",
              "      <td>'02446</td>\n",
              "      <td>1956.0</td>\n",
              "      <td>Male</td>\n",
              "    </tr>\n",
              "    <tr>\n",
              "      <th>18</th>\n",
              "      <td>19</td>\n",
              "      <td>1020</td>\n",
              "      <td>NaN</td>\n",
              "      <td>38</td>\n",
              "      <td>NaN</td>\n",
              "      <td>36</td>\n",
              "      <td>B00147</td>\n",
              "      <td>Registered</td>\n",
              "      <td>'02118</td>\n",
              "      <td>1987.0</td>\n",
              "      <td>Female</td>\n",
              "    </tr>\n",
              "    <tr>\n",
              "      <th>19</th>\n",
              "      <td>20</td>\n",
              "      <td>1264</td>\n",
              "      <td>NaN</td>\n",
              "      <td>38</td>\n",
              "      <td>NaN</td>\n",
              "      <td>44</td>\n",
              "      <td>B00165</td>\n",
              "      <td>Registered</td>\n",
              "      <td>'02139</td>\n",
              "      <td>1985.0</td>\n",
              "      <td>Female</td>\n",
              "    </tr>\n",
              "    <tr>\n",
              "      <th>20</th>\n",
              "      <td>21</td>\n",
              "      <td>1043</td>\n",
              "      <td>NaN</td>\n",
              "      <td>38</td>\n",
              "      <td>NaN</td>\n",
              "      <td>44</td>\n",
              "      <td>B00527</td>\n",
              "      <td>Registered</td>\n",
              "      <td>'02351</td>\n",
              "      <td>1978.0</td>\n",
              "      <td>Male</td>\n",
              "    </tr>\n",
              "    <tr>\n",
              "      <th>21</th>\n",
              "      <td>22</td>\n",
              "      <td>969</td>\n",
              "      <td>NaN</td>\n",
              "      <td>22</td>\n",
              "      <td>NaN</td>\n",
              "      <td>44</td>\n",
              "      <td>B00487</td>\n",
              "      <td>Registered</td>\n",
              "      <td>'02143</td>\n",
              "      <td>1971.0</td>\n",
              "      <td>Male</td>\n",
              "    </tr>\n",
              "    <tr>\n",
              "      <th>22</th>\n",
              "      <td>23</td>\n",
              "      <td>1582</td>\n",
              "      <td>NaN</td>\n",
              "      <td>38</td>\n",
              "      <td>NaN</td>\n",
              "      <td>10</td>\n",
              "      <td>B00093</td>\n",
              "      <td>Registered</td>\n",
              "      <td>'02130</td>\n",
              "      <td>1980.0</td>\n",
              "      <td>Female</td>\n",
              "    </tr>\n",
              "    <tr>\n",
              "      <th>23</th>\n",
              "      <td>24</td>\n",
              "      <td>620</td>\n",
              "      <td>NaN</td>\n",
              "      <td>22</td>\n",
              "      <td>NaN</td>\n",
              "      <td>20</td>\n",
              "      <td>B00375</td>\n",
              "      <td>Registered</td>\n",
              "      <td>'02474</td>\n",
              "      <td>1955.0</td>\n",
              "      <td>Female</td>\n",
              "    </tr>\n",
              "    <tr>\n",
              "      <th>24</th>\n",
              "      <td>25</td>\n",
              "      <td>7</td>\n",
              "      <td>NaN</td>\n",
              "      <td>22</td>\n",
              "      <td>NaN</td>\n",
              "      <td>22</td>\n",
              "      <td>B00275</td>\n",
              "      <td>Registered</td>\n",
              "      <td>'02140</td>\n",
              "      <td>1971.0</td>\n",
              "      <td>Female</td>\n",
              "    </tr>\n",
              "    <tr>\n",
              "      <th>25</th>\n",
              "      <td>26</td>\n",
              "      <td>771</td>\n",
              "      <td>NaN</td>\n",
              "      <td>38</td>\n",
              "      <td>NaN</td>\n",
              "      <td>42</td>\n",
              "      <td>B00279</td>\n",
              "      <td>Registered</td>\n",
              "      <td>'02108</td>\n",
              "      <td>1943.0</td>\n",
              "      <td>Male</td>\n",
              "    </tr>\n",
              "    <tr>\n",
              "      <th>26</th>\n",
              "      <td>27</td>\n",
              "      <td>1222</td>\n",
              "      <td>NaN</td>\n",
              "      <td>38</td>\n",
              "      <td>NaN</td>\n",
              "      <td>44</td>\n",
              "      <td>B00074</td>\n",
              "      <td>Registered</td>\n",
              "      <td>'02143</td>\n",
              "      <td>1972.0</td>\n",
              "      <td>Female</td>\n",
              "    </tr>\n",
              "    <tr>\n",
              "      <th>27</th>\n",
              "      <td>28</td>\n",
              "      <td>4</td>\n",
              "      <td>NaN</td>\n",
              "      <td>22</td>\n",
              "      <td>NaN</td>\n",
              "      <td>22</td>\n",
              "      <td>B00137</td>\n",
              "      <td>Registered</td>\n",
              "      <td>'01776</td>\n",
              "      <td>1949.0</td>\n",
              "      <td>Male</td>\n",
              "    </tr>\n",
              "    <tr>\n",
              "      <th>28</th>\n",
              "      <td>29</td>\n",
              "      <td>5</td>\n",
              "      <td>NaN</td>\n",
              "      <td>22</td>\n",
              "      <td>NaN</td>\n",
              "      <td>22</td>\n",
              "      <td>B00082</td>\n",
              "      <td>Registered</td>\n",
              "      <td>'01880</td>\n",
              "      <td>1968.0</td>\n",
              "      <td>Male</td>\n",
              "    </tr>\n",
              "    <tr>\n",
              "      <th>29</th>\n",
              "      <td>30</td>\n",
              "      <td>824</td>\n",
              "      <td>NaN</td>\n",
              "      <td>22</td>\n",
              "      <td>NaN</td>\n",
              "      <td>38</td>\n",
              "      <td>B00460</td>\n",
              "      <td>Registered</td>\n",
              "      <td>'02131</td>\n",
              "      <td>1967.0</td>\n",
              "      <td>Male</td>\n",
              "    </tr>\n",
              "    <tr>\n",
              "      <th>30</th>\n",
              "      <td>31</td>\n",
              "      <td>873</td>\n",
              "      <td>NaN</td>\n",
              "      <td>38</td>\n",
              "      <td>NaN</td>\n",
              "      <td>47</td>\n",
              "      <td>B00025</td>\n",
              "      <td>Registered</td>\n",
              "      <td>'02115</td>\n",
              "      <td>1975.0</td>\n",
              "      <td>Female</td>\n",
              "    </tr>\n",
              "    <tr>\n",
              "      <th>31</th>\n",
              "      <td>32</td>\n",
              "      <td>1377</td>\n",
              "      <td>NaN</td>\n",
              "      <td>22</td>\n",
              "      <td>NaN</td>\n",
              "      <td>25</td>\n",
              "      <td>B00404</td>\n",
              "      <td>Registered</td>\n",
              "      <td>'02446</td>\n",
              "      <td>1982.0</td>\n",
              "      <td>Male</td>\n",
              "    </tr>\n",
              "    <tr>\n",
              "      <th>32</th>\n",
              "      <td>33</td>\n",
              "      <td>1114</td>\n",
              "      <td>NaN</td>\n",
              "      <td>22</td>\n",
              "      <td>NaN</td>\n",
              "      <td>48</td>\n",
              "      <td>B00392</td>\n",
              "      <td>Registered</td>\n",
              "      <td>'02144</td>\n",
              "      <td>1958.0</td>\n",
              "      <td>Male</td>\n",
              "    </tr>\n",
              "    <tr>\n",
              "      <th>33</th>\n",
              "      <td>34</td>\n",
              "      <td>16</td>\n",
              "      <td>NaN</td>\n",
              "      <td>22</td>\n",
              "      <td>NaN</td>\n",
              "      <td>22</td>\n",
              "      <td>B00198</td>\n",
              "      <td>Registered</td>\n",
              "      <td>'02116</td>\n",
              "      <td>1976.0</td>\n",
              "      <td>Male</td>\n",
              "    </tr>\n",
              "    <tr>\n",
              "      <th>34</th>\n",
              "      <td>35</td>\n",
              "      <td>1655</td>\n",
              "      <td>NaN</td>\n",
              "      <td>22</td>\n",
              "      <td>NaN</td>\n",
              "      <td>36</td>\n",
              "      <td>B00316</td>\n",
              "      <td>Registered</td>\n",
              "      <td>'02115</td>\n",
              "      <td>1960.0</td>\n",
              "      <td>Female</td>\n",
              "    </tr>\n",
              "    <tr>\n",
              "      <th>35</th>\n",
              "      <td>36</td>\n",
              "      <td>1953</td>\n",
              "      <td>NaN</td>\n",
              "      <td>22</td>\n",
              "      <td>NaN</td>\n",
              "      <td>31</td>\n",
              "      <td>B00069</td>\n",
              "      <td>Registered</td>\n",
              "      <td>'02021</td>\n",
              "      <td>1951.0</td>\n",
              "      <td>Male</td>\n",
              "    </tr>\n",
              "    <tr>\n",
              "      <th>36</th>\n",
              "      <td>37</td>\n",
              "      <td>1989</td>\n",
              "      <td>NaN</td>\n",
              "      <td>22</td>\n",
              "      <td>NaN</td>\n",
              "      <td>31</td>\n",
              "      <td>B00298</td>\n",
              "      <td>Registered</td>\n",
              "      <td>'02151</td>\n",
              "      <td>1987.0</td>\n",
              "      <td>Female</td>\n",
              "    </tr>\n",
              "    <tr>\n",
              "      <th>37</th>\n",
              "      <td>38</td>\n",
              "      <td>1015</td>\n",
              "      <td>NaN</td>\n",
              "      <td>22</td>\n",
              "      <td>NaN</td>\n",
              "      <td>36</td>\n",
              "      <td>B00543</td>\n",
              "      <td>Registered</td>\n",
              "      <td>'02116</td>\n",
              "      <td>1981.0</td>\n",
              "      <td>Female</td>\n",
              "    </tr>\n",
              "    <tr>\n",
              "      <th>38</th>\n",
              "      <td>39</td>\n",
              "      <td>863</td>\n",
              "      <td>NaN</td>\n",
              "      <td>22</td>\n",
              "      <td>NaN</td>\n",
              "      <td>42</td>\n",
              "      <td>B00189</td>\n",
              "      <td>Registered</td>\n",
              "      <td>'02127</td>\n",
              "      <td>1968.0</td>\n",
              "      <td>Male</td>\n",
              "    </tr>\n",
              "    <tr>\n",
              "      <th>39</th>\n",
              "      <td>40</td>\n",
              "      <td>6</td>\n",
              "      <td>NaN</td>\n",
              "      <td>16</td>\n",
              "      <td>NaN</td>\n",
              "      <td>16</td>\n",
              "      <td>B00533</td>\n",
              "      <td>Registered</td>\n",
              "      <td>'02445</td>\n",
              "      <td>1958.0</td>\n",
              "      <td>Male</td>\n",
              "    </tr>\n",
              "    <tr>\n",
              "      <th>40</th>\n",
              "      <td>41</td>\n",
              "      <td>460</td>\n",
              "      <td>NaN</td>\n",
              "      <td>22</td>\n",
              "      <td>NaN</td>\n",
              "      <td>49</td>\n",
              "      <td>B00353</td>\n",
              "      <td>Registered</td>\n",
              "      <td>'01880</td>\n",
              "      <td>1968.0</td>\n",
              "      <td>Male</td>\n",
              "    </tr>\n",
              "    <tr>\n",
              "      <th>41</th>\n",
              "      <td>42</td>\n",
              "      <td>724</td>\n",
              "      <td>NaN</td>\n",
              "      <td>22</td>\n",
              "      <td>NaN</td>\n",
              "      <td>40</td>\n",
              "      <td>B00442</td>\n",
              "      <td>Registered</td>\n",
              "      <td>'02113</td>\n",
              "      <td>1973.0</td>\n",
              "      <td>Female</td>\n",
              "    </tr>\n",
              "    <tr>\n",
              "      <th>42</th>\n",
              "      <td>43</td>\n",
              "      <td>1624</td>\n",
              "      <td>NaN</td>\n",
              "      <td>40</td>\n",
              "      <td>NaN</td>\n",
              "      <td>20</td>\n",
              "      <td>B00550</td>\n",
              "      <td>Registered</td>\n",
              "      <td>'01867</td>\n",
              "      <td>1994.0</td>\n",
              "      <td>Male</td>\n",
              "    </tr>\n",
              "    <tr>\n",
              "      <th>43</th>\n",
              "      <td>44</td>\n",
              "      <td>191</td>\n",
              "      <td>NaN</td>\n",
              "      <td>22</td>\n",
              "      <td>NaN</td>\n",
              "      <td>22</td>\n",
              "      <td>B00275</td>\n",
              "      <td>Registered</td>\n",
              "      <td>'01876</td>\n",
              "      <td>1963.0</td>\n",
              "      <td>Female</td>\n",
              "    </tr>\n",
              "    <tr>\n",
              "      <th>44</th>\n",
              "      <td>45</td>\n",
              "      <td>1390</td>\n",
              "      <td>NaN</td>\n",
              "      <td>36</td>\n",
              "      <td>NaN</td>\n",
              "      <td>23</td>\n",
              "      <td>B00111</td>\n",
              "      <td>Registered</td>\n",
              "      <td>'02114</td>\n",
              "      <td>1975.0</td>\n",
              "      <td>Male</td>\n",
              "    </tr>\n",
              "    <tr>\n",
              "      <th>45</th>\n",
              "      <td>46</td>\n",
              "      <td>1587</td>\n",
              "      <td>NaN</td>\n",
              "      <td>40</td>\n",
              "      <td>NaN</td>\n",
              "      <td>20</td>\n",
              "      <td>B00539</td>\n",
              "      <td>Registered</td>\n",
              "      <td>'01867</td>\n",
              "      <td>1956.0</td>\n",
              "      <td>Male</td>\n",
              "    </tr>\n",
              "    <tr>\n",
              "      <th>46</th>\n",
              "      <td>47</td>\n",
              "      <td>1578</td>\n",
              "      <td>NaN</td>\n",
              "      <td>40</td>\n",
              "      <td>NaN</td>\n",
              "      <td>20</td>\n",
              "      <td>B00580</td>\n",
              "      <td>Registered</td>\n",
              "      <td>'01867</td>\n",
              "      <td>1994.0</td>\n",
              "      <td>Female</td>\n",
              "    </tr>\n",
              "    <tr>\n",
              "      <th>47</th>\n",
              "      <td>48</td>\n",
              "      <td>2585</td>\n",
              "      <td>NaN</td>\n",
              "      <td>38</td>\n",
              "      <td>NaN</td>\n",
              "      <td>38</td>\n",
              "      <td>B00101</td>\n",
              "      <td>Registered</td>\n",
              "      <td>'02492</td>\n",
              "      <td>1968.0</td>\n",
              "      <td>Male</td>\n",
              "    </tr>\n",
              "    <tr>\n",
              "      <th>48</th>\n",
              "      <td>49</td>\n",
              "      <td>899</td>\n",
              "      <td>NaN</td>\n",
              "      <td>22</td>\n",
              "      <td>NaN</td>\n",
              "      <td>49</td>\n",
              "      <td>B00082</td>\n",
              "      <td>Registered</td>\n",
              "      <td>'01776</td>\n",
              "      <td>1949.0</td>\n",
              "      <td>Male</td>\n",
              "    </tr>\n",
              "    <tr>\n",
              "      <th>49</th>\n",
              "      <td>50</td>\n",
              "      <td>960</td>\n",
              "      <td>NaN</td>\n",
              "      <td>45</td>\n",
              "      <td>NaN</td>\n",
              "      <td>36</td>\n",
              "      <td>B00426</td>\n",
              "      <td>Registered</td>\n",
              "      <td>'01742</td>\n",
              "      <td>1962.0</td>\n",
              "      <td>Male</td>\n",
              "    </tr>\n",
              "  </tbody>\n",
              "</table>\n",
              "</div>"
            ],
            "text/plain": [
              "    id  duration  start_date  ...  zip_code  birth_date  gender\n",
              "0    1         9         NaN  ...    '97217      1976.0    Male\n",
              "1    2       220         NaN  ...    '02215      1966.0    Male\n",
              "2    3        56         NaN  ...    '02108      1943.0    Male\n",
              "3    4        64         NaN  ...    '02116      1981.0  Female\n",
              "4    5        12         NaN  ...    '97214      1983.0  Female\n",
              "5    6        19         NaN  ...    '02021      1951.0    Male\n",
              "6    7        24         NaN  ...    '02140      1971.0  Female\n",
              "7    8         7         NaN  ...    '02140      1971.0  Female\n",
              "8    9         8         NaN  ...    '97214      1983.0  Female\n",
              "9   10      1108         NaN  ...    '01867      1994.0    Male\n",
              "10  11      1055         NaN  ...    '01867      1956.0    Male\n",
              "11  12      1042         NaN  ...    '01867      1959.0  Female\n",
              "12  13       994         NaN  ...       NaN         NaN     NaN\n",
              "13  14        15         NaN  ...    '02446      1982.0    Male\n",
              "14  15       952         NaN  ...    '02128      1944.0    Male\n",
              "15  16        32         NaN  ...    '02115      1960.0  Female\n",
              "16  17      1261         NaN  ...    '02492      1975.0    Male\n",
              "17  18         7         NaN  ...    '02446      1956.0    Male\n",
              "18  19      1020         NaN  ...    '02118      1987.0  Female\n",
              "19  20      1264         NaN  ...    '02139      1985.0  Female\n",
              "20  21      1043         NaN  ...    '02351      1978.0    Male\n",
              "21  22       969         NaN  ...    '02143      1971.0    Male\n",
              "22  23      1582         NaN  ...    '02130      1980.0  Female\n",
              "23  24       620         NaN  ...    '02474      1955.0  Female\n",
              "24  25         7         NaN  ...    '02140      1971.0  Female\n",
              "25  26       771         NaN  ...    '02108      1943.0    Male\n",
              "26  27      1222         NaN  ...    '02143      1972.0  Female\n",
              "27  28         4         NaN  ...    '01776      1949.0    Male\n",
              "28  29         5         NaN  ...    '01880      1968.0    Male\n",
              "29  30       824         NaN  ...    '02131      1967.0    Male\n",
              "30  31       873         NaN  ...    '02115      1975.0  Female\n",
              "31  32      1377         NaN  ...    '02446      1982.0    Male\n",
              "32  33      1114         NaN  ...    '02144      1958.0    Male\n",
              "33  34        16         NaN  ...    '02116      1976.0    Male\n",
              "34  35      1655         NaN  ...    '02115      1960.0  Female\n",
              "35  36      1953         NaN  ...    '02021      1951.0    Male\n",
              "36  37      1989         NaN  ...    '02151      1987.0  Female\n",
              "37  38      1015         NaN  ...    '02116      1981.0  Female\n",
              "38  39       863         NaN  ...    '02127      1968.0    Male\n",
              "39  40         6         NaN  ...    '02445      1958.0    Male\n",
              "40  41       460         NaN  ...    '01880      1968.0    Male\n",
              "41  42       724         NaN  ...    '02113      1973.0  Female\n",
              "42  43      1624         NaN  ...    '01867      1994.0    Male\n",
              "43  44       191         NaN  ...    '01876      1963.0  Female\n",
              "44  45      1390         NaN  ...    '02114      1975.0    Male\n",
              "45  46      1587         NaN  ...    '01867      1956.0    Male\n",
              "46  47      1578         NaN  ...    '01867      1994.0  Female\n",
              "47  48      2585         NaN  ...    '02492      1968.0    Male\n",
              "48  49       899         NaN  ...    '01776      1949.0    Male\n",
              "49  50       960         NaN  ...    '01742      1962.0    Male\n",
              "\n",
              "[50 rows x 11 columns]"
            ]
          },
          "metadata": {
            "tags": []
          },
          "execution_count": 28
        }
      ]
    }
  ]
}